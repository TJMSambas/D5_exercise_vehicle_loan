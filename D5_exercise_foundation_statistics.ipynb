{
 "cells": [
  {
   "cell_type": "markdown",
   "metadata": {},
   "source": [
    "# <center> Exercise D5: Foundation of Statistics"
   ]
  },
  {
   "cell_type": "markdown",
   "metadata": {},
   "source": [
    "First exercise on sampling and descriptive statistics.  \n",
    "\n",
    "    Author: Tri Juliansyah M Sambas\n",
    "    Date: 25th October 2019"
   ]
  },
  {
   "cell_type": "markdown",
   "metadata": {},
   "source": [
    "# Part A\n",
    "During training"
   ]
  },
  {
   "cell_type": "markdown",
   "metadata": {},
   "source": [
    "## Import Libraries"
   ]
  },
  {
   "cell_type": "code",
   "execution_count": 1,
   "metadata": {},
   "outputs": [],
   "source": [
    "import numpy as np\n",
    "import pandas as pd\n",
    "import matplotlib.pyplot as plt\n",
    "import seaborn as sns"
   ]
  },
  {
   "cell_type": "markdown",
   "metadata": {},
   "source": [
    "## Import Dataset"
   ]
  },
  {
   "cell_type": "code",
   "execution_count": 2,
   "metadata": {},
   "outputs": [],
   "source": [
    "data_df = pd.read_excel('../Dataset/data loan.xlsx')"
   ]
  },
  {
   "cell_type": "code",
   "execution_count": 3,
   "metadata": {},
   "outputs": [
    {
     "data": {
      "text/html": [
       "<div>\n",
       "<style scoped>\n",
       "    .dataframe tbody tr th:only-of-type {\n",
       "        vertical-align: middle;\n",
       "    }\n",
       "\n",
       "    .dataframe tbody tr th {\n",
       "        vertical-align: top;\n",
       "    }\n",
       "\n",
       "    .dataframe thead th {\n",
       "        text-align: right;\n",
       "    }\n",
       "</style>\n",
       "<table border=\"1\" class=\"dataframe\">\n",
       "  <thead>\n",
       "    <tr style=\"text-align: right;\">\n",
       "      <th></th>\n",
       "      <th>Kontrak</th>\n",
       "      <th>Tipe_Kendaraan</th>\n",
       "      <th>Pekerjaan</th>\n",
       "      <th>Area</th>\n",
       "      <th>Tenor</th>\n",
       "      <th>Bucket_Collectability</th>\n",
       "      <th>NPF</th>\n",
       "      <th>Total_AR</th>\n",
       "      <th>LTV</th>\n",
       "      <th>OTR</th>\n",
       "      <th>...</th>\n",
       "      <th>DP</th>\n",
       "      <th>AF</th>\n",
       "      <th>Tujuan</th>\n",
       "      <th>Pendidikan</th>\n",
       "      <th>Tanggungan</th>\n",
       "      <th>Status</th>\n",
       "      <th>Gender</th>\n",
       "      <th>Paket</th>\n",
       "      <th>Inflasi</th>\n",
       "      <th>Segmen</th>\n",
       "    </tr>\n",
       "  </thead>\n",
       "  <tbody>\n",
       "    <tr>\n",
       "      <th>0</th>\n",
       "      <td>1</td>\n",
       "      <td>OTHERS</td>\n",
       "      <td>Karyawan</td>\n",
       "      <td>Jawa</td>\n",
       "      <td>12</td>\n",
       "      <td>&gt;90 - 120 hari</td>\n",
       "      <td>Ya</td>\n",
       "      <td>2.763126</td>\n",
       "      <td>100.00</td>\n",
       "      <td>2.76</td>\n",
       "      <td>...</td>\n",
       "      <td>0.0</td>\n",
       "      <td>2.76</td>\n",
       "      <td>Private</td>\n",
       "      <td>Sarjana</td>\n",
       "      <td>Tidak ada</td>\n",
       "      <td>OTHERS</td>\n",
       "      <td>Laki-laki</td>\n",
       "      <td>Ya</td>\n",
       "      <td>3.58</td>\n",
       "      <td>Jasa &amp; Perdagangan</td>\n",
       "    </tr>\n",
       "    <tr>\n",
       "      <th>1</th>\n",
       "      <td>2</td>\n",
       "      <td>OTHERS</td>\n",
       "      <td>Wiraswasta</td>\n",
       "      <td>Jawa</td>\n",
       "      <td>12</td>\n",
       "      <td>0 - 30 hari</td>\n",
       "      <td>Tidak</td>\n",
       "      <td>2.805000</td>\n",
       "      <td>103.70</td>\n",
       "      <td>2.71</td>\n",
       "      <td>...</td>\n",
       "      <td>0.0</td>\n",
       "      <td>2.81</td>\n",
       "      <td>Private</td>\n",
       "      <td>Others</td>\n",
       "      <td>Tidak ada</td>\n",
       "      <td>MENIKAH</td>\n",
       "      <td>Laki-laki</td>\n",
       "      <td>Ya</td>\n",
       "      <td>3.58</td>\n",
       "      <td>Others</td>\n",
       "    </tr>\n",
       "    <tr>\n",
       "      <th>2</th>\n",
       "      <td>3</td>\n",
       "      <td>OTHERS</td>\n",
       "      <td>Wiraswasta</td>\n",
       "      <td>Jawa</td>\n",
       "      <td>12</td>\n",
       "      <td>0 - 30 hari</td>\n",
       "      <td>Tidak</td>\n",
       "      <td>3.104000</td>\n",
       "      <td>103.33</td>\n",
       "      <td>3.00</td>\n",
       "      <td>...</td>\n",
       "      <td>0.0</td>\n",
       "      <td>3.10</td>\n",
       "      <td>Private</td>\n",
       "      <td>Sarjana</td>\n",
       "      <td>Tidak ada</td>\n",
       "      <td>OTHERS</td>\n",
       "      <td>Perempuan</td>\n",
       "      <td>Ya</td>\n",
       "      <td>4.17</td>\n",
       "      <td>Others</td>\n",
       "    </tr>\n",
       "  </tbody>\n",
       "</table>\n",
       "<p>3 rows × 23 columns</p>\n",
       "</div>"
      ],
      "text/plain": [
       "   Kontrak Tipe_Kendaraan   Pekerjaan  Area  Tenor Bucket_Collectability  \\\n",
       "0        1         OTHERS    Karyawan  Jawa     12        >90 - 120 hari   \n",
       "1        2         OTHERS  Wiraswasta  Jawa     12           0 - 30 hari   \n",
       "2        3         OTHERS  Wiraswasta  Jawa     12           0 - 30 hari   \n",
       "\n",
       "     NPF  Total_AR     LTV   OTR  ...   DP    AF   Tujuan  Pendidikan  \\\n",
       "0     Ya  2.763126  100.00  2.76  ...  0.0  2.76  Private     Sarjana   \n",
       "1  Tidak  2.805000  103.70  2.71  ...  0.0  2.81  Private      Others   \n",
       "2  Tidak  3.104000  103.33  3.00  ...  0.0  3.10  Private     Sarjana   \n",
       "\n",
       "   Tanggungan   Status     Gender Paket Inflasi              Segmen  \n",
       "0   Tidak ada   OTHERS  Laki-laki    Ya    3.58  Jasa & Perdagangan  \n",
       "1   Tidak ada  MENIKAH  Laki-laki    Ya    3.58              Others  \n",
       "2   Tidak ada   OTHERS  Perempuan    Ya    4.17              Others  \n",
       "\n",
       "[3 rows x 23 columns]"
      ]
     },
     "execution_count": 3,
     "metadata": {},
     "output_type": "execute_result"
    }
   ],
   "source": [
    "data_df.head(3)"
   ]
  },
  {
   "cell_type": "code",
   "execution_count": 4,
   "metadata": {},
   "outputs": [
    {
     "data": {
      "text/html": [
       "<div>\n",
       "<style scoped>\n",
       "    .dataframe tbody tr th:only-of-type {\n",
       "        vertical-align: middle;\n",
       "    }\n",
       "\n",
       "    .dataframe tbody tr th {\n",
       "        vertical-align: top;\n",
       "    }\n",
       "\n",
       "    .dataframe thead th {\n",
       "        text-align: right;\n",
       "    }\n",
       "</style>\n",
       "<table border=\"1\" class=\"dataframe\">\n",
       "  <thead>\n",
       "    <tr style=\"text-align: right;\">\n",
       "      <th></th>\n",
       "      <th>Kontrak</th>\n",
       "      <th>Tipe_Kendaraan</th>\n",
       "      <th>Pekerjaan</th>\n",
       "      <th>Area</th>\n",
       "      <th>Tenor</th>\n",
       "      <th>Bucket_Collectability</th>\n",
       "      <th>NPF</th>\n",
       "      <th>Total_AR</th>\n",
       "      <th>LTV</th>\n",
       "      <th>OTR</th>\n",
       "      <th>...</th>\n",
       "      <th>DP</th>\n",
       "      <th>AF</th>\n",
       "      <th>Tujuan</th>\n",
       "      <th>Pendidikan</th>\n",
       "      <th>Tanggungan</th>\n",
       "      <th>Status</th>\n",
       "      <th>Gender</th>\n",
       "      <th>Paket</th>\n",
       "      <th>Inflasi</th>\n",
       "      <th>Segmen</th>\n",
       "    </tr>\n",
       "  </thead>\n",
       "  <tbody>\n",
       "    <tr>\n",
       "      <th>28290</th>\n",
       "      <td>28291</td>\n",
       "      <td>MINIBUS</td>\n",
       "      <td>Karyawan</td>\n",
       "      <td>Sumatera</td>\n",
       "      <td>60</td>\n",
       "      <td>&gt;120 - 150 hari</td>\n",
       "      <td>Ya</td>\n",
       "      <td>536.339999</td>\n",
       "      <td>87.01</td>\n",
       "      <td>432.00</td>\n",
       "      <td>...</td>\n",
       "      <td>108.00</td>\n",
       "      <td>375.86</td>\n",
       "      <td>Private</td>\n",
       "      <td>Sarjana</td>\n",
       "      <td>Ada</td>\n",
       "      <td>OTHERS</td>\n",
       "      <td>Perempuan</td>\n",
       "      <td>Ya</td>\n",
       "      <td>3.61</td>\n",
       "      <td>Others</td>\n",
       "    </tr>\n",
       "    <tr>\n",
       "      <th>28291</th>\n",
       "      <td>28292</td>\n",
       "      <td>MINIBUS</td>\n",
       "      <td>Wiraswasta</td>\n",
       "      <td>Sumatera</td>\n",
       "      <td>60</td>\n",
       "      <td>&gt; 150 hari</td>\n",
       "      <td>Ya</td>\n",
       "      <td>584.880008</td>\n",
       "      <td>92.34</td>\n",
       "      <td>407.30</td>\n",
       "      <td>...</td>\n",
       "      <td>81.46</td>\n",
       "      <td>376.10</td>\n",
       "      <td>Private</td>\n",
       "      <td>Others</td>\n",
       "      <td>Tidak ada</td>\n",
       "      <td>MENIKAH</td>\n",
       "      <td>Laki-laki</td>\n",
       "      <td>Tidak</td>\n",
       "      <td>3.61</td>\n",
       "      <td>Jasa &amp; Perdagangan</td>\n",
       "    </tr>\n",
       "    <tr>\n",
       "      <th>28292</th>\n",
       "      <td>28293</td>\n",
       "      <td>OTHERS</td>\n",
       "      <td>Wiraswasta</td>\n",
       "      <td>Jawa</td>\n",
       "      <td>60</td>\n",
       "      <td>&gt; 150 hari</td>\n",
       "      <td>Ya</td>\n",
       "      <td>670.020007</td>\n",
       "      <td>89.59</td>\n",
       "      <td>515.74</td>\n",
       "      <td>...</td>\n",
       "      <td>103.17</td>\n",
       "      <td>462.05</td>\n",
       "      <td>Private</td>\n",
       "      <td>Others</td>\n",
       "      <td>Ada</td>\n",
       "      <td>MENIKAH</td>\n",
       "      <td>Perempuan</td>\n",
       "      <td>Tidak</td>\n",
       "      <td>3.61</td>\n",
       "      <td>Jasa &amp; Perdagangan</td>\n",
       "    </tr>\n",
       "  </tbody>\n",
       "</table>\n",
       "<p>3 rows × 23 columns</p>\n",
       "</div>"
      ],
      "text/plain": [
       "       Kontrak Tipe_Kendaraan   Pekerjaan      Area  Tenor  \\\n",
       "28290    28291        MINIBUS    Karyawan  Sumatera     60   \n",
       "28291    28292        MINIBUS  Wiraswasta  Sumatera     60   \n",
       "28292    28293         OTHERS  Wiraswasta      Jawa     60   \n",
       "\n",
       "      Bucket_Collectability NPF    Total_AR    LTV     OTR  ...      DP  \\\n",
       "28290       >120 - 150 hari  Ya  536.339999  87.01  432.00  ...  108.00   \n",
       "28291            > 150 hari  Ya  584.880008  92.34  407.30  ...   81.46   \n",
       "28292            > 150 hari  Ya  670.020007  89.59  515.74  ...  103.17   \n",
       "\n",
       "           AF   Tujuan  Pendidikan  Tanggungan   Status     Gender  Paket  \\\n",
       "28290  375.86  Private     Sarjana         Ada   OTHERS  Perempuan     Ya   \n",
       "28291  376.10  Private      Others   Tidak ada  MENIKAH  Laki-laki  Tidak   \n",
       "28292  462.05  Private      Others         Ada  MENIKAH  Perempuan  Tidak   \n",
       "\n",
       "      Inflasi              Segmen  \n",
       "28290    3.61              Others  \n",
       "28291    3.61  Jasa & Perdagangan  \n",
       "28292    3.61  Jasa & Perdagangan  \n",
       "\n",
       "[3 rows x 23 columns]"
      ]
     },
     "execution_count": 4,
     "metadata": {},
     "output_type": "execute_result"
    }
   ],
   "source": [
    "data_df.tail(3)"
   ]
  },
  {
   "cell_type": "code",
   "execution_count": 5,
   "metadata": {},
   "outputs": [
    {
     "name": "stdout",
     "output_type": "stream",
     "text": [
      "<class 'pandas.core.frame.DataFrame'>\n",
      "RangeIndex: 28293 entries, 0 to 28292\n",
      "Data columns (total 23 columns):\n",
      "Kontrak                  28293 non-null int64\n",
      "Tipe_Kendaraan           28293 non-null object\n",
      "Pekerjaan                28293 non-null object\n",
      "Area                     28293 non-null object\n",
      "Tenor                    28293 non-null int64\n",
      "Bucket_Collectability    28293 non-null object\n",
      "NPF                      28293 non-null object\n",
      "Total_AR                 28293 non-null float64\n",
      "LTV                      28293 non-null float64\n",
      "OTR                      28293 non-null float64\n",
      "Age                      28293 non-null int64\n",
      "Interest_Rate            28293 non-null float64\n",
      "Income                   28293 non-null int64\n",
      "DP                       28293 non-null float64\n",
      "AF                       28293 non-null float64\n",
      "Tujuan                   28293 non-null object\n",
      "Pendidikan               28293 non-null object\n",
      "Tanggungan               28293 non-null object\n",
      "Status                   28293 non-null object\n",
      "Gender                   28293 non-null object\n",
      "Paket                    28293 non-null object\n",
      "Inflasi                  28293 non-null float64\n",
      "Segmen                   28293 non-null object\n",
      "dtypes: float64(7), int64(4), object(12)\n",
      "memory usage: 5.0+ MB\n"
     ]
    }
   ],
   "source": [
    "data_df.info()"
   ]
  },
  {
   "cell_type": "markdown",
   "metadata": {},
   "source": [
    "## Exploratory Data Analysis"
   ]
  },
  {
   "cell_type": "code",
   "execution_count": 6,
   "metadata": {},
   "outputs": [],
   "source": [
    "numerical = list(data_df.dtypes[data_df.dtypes != 'object'].index)\n",
    "categorical = list(data_df.dtypes[data_df.dtypes == 'object'].index)"
   ]
  },
  {
   "cell_type": "code",
   "execution_count": 7,
   "metadata": {},
   "outputs": [
    {
     "data": {
      "text/html": [
       "<div>\n",
       "<style scoped>\n",
       "    .dataframe tbody tr th:only-of-type {\n",
       "        vertical-align: middle;\n",
       "    }\n",
       "\n",
       "    .dataframe tbody tr th {\n",
       "        vertical-align: top;\n",
       "    }\n",
       "\n",
       "    .dataframe thead th {\n",
       "        text-align: right;\n",
       "    }\n",
       "</style>\n",
       "<table border=\"1\" class=\"dataframe\">\n",
       "  <thead>\n",
       "    <tr style=\"text-align: right;\">\n",
       "      <th></th>\n",
       "      <th>Kontrak</th>\n",
       "      <th>Tenor</th>\n",
       "      <th>Total_AR</th>\n",
       "      <th>LTV</th>\n",
       "      <th>OTR</th>\n",
       "      <th>Age</th>\n",
       "      <th>Interest_Rate</th>\n",
       "      <th>Income</th>\n",
       "      <th>DP</th>\n",
       "      <th>AF</th>\n",
       "      <th>Inflasi</th>\n",
       "    </tr>\n",
       "  </thead>\n",
       "  <tbody>\n",
       "    <tr>\n",
       "      <th>count</th>\n",
       "      <td>28293.000000</td>\n",
       "      <td>28293.000000</td>\n",
       "      <td>28293.000000</td>\n",
       "      <td>28293.000000</td>\n",
       "      <td>28293.000000</td>\n",
       "      <td>28293.000000</td>\n",
       "      <td>28293.000000</td>\n",
       "      <td>28293.000000</td>\n",
       "      <td>28293.000000</td>\n",
       "      <td>28293.000000</td>\n",
       "      <td>28293.000000</td>\n",
       "    </tr>\n",
       "    <tr>\n",
       "      <th>mean</th>\n",
       "      <td>14147.000000</td>\n",
       "      <td>45.104867</td>\n",
       "      <td>214.777125</td>\n",
       "      <td>81.146981</td>\n",
       "      <td>204.385958</td>\n",
       "      <td>40.680133</td>\n",
       "      <td>13.741759</td>\n",
       "      <td>20.449334</td>\n",
       "      <td>59.117309</td>\n",
       "      <td>163.551610</td>\n",
       "      <td>5.531061</td>\n",
       "    </tr>\n",
       "    <tr>\n",
       "      <th>std</th>\n",
       "      <td>8167.629919</td>\n",
       "      <td>13.281078</td>\n",
       "      <td>88.386433</td>\n",
       "      <td>14.986763</td>\n",
       "      <td>79.938138</td>\n",
       "      <td>9.564789</td>\n",
       "      <td>3.517159</td>\n",
       "      <td>115.608090</td>\n",
       "      <td>40.830083</td>\n",
       "      <td>64.204471</td>\n",
       "      <td>1.797010</td>\n",
       "    </tr>\n",
       "    <tr>\n",
       "      <th>min</th>\n",
       "      <td>1.000000</td>\n",
       "      <td>12.000000</td>\n",
       "      <td>1.401000</td>\n",
       "      <td>5.110000</td>\n",
       "      <td>1.690000</td>\n",
       "      <td>19.000000</td>\n",
       "      <td>0.000000</td>\n",
       "      <td>1.000000</td>\n",
       "      <td>0.000000</td>\n",
       "      <td>1.390000</td>\n",
       "      <td>3.210000</td>\n",
       "    </tr>\n",
       "    <tr>\n",
       "      <th>25%</th>\n",
       "      <td>7074.000000</td>\n",
       "      <td>36.000000</td>\n",
       "      <td>156.321600</td>\n",
       "      <td>77.870000</td>\n",
       "      <td>157.800000</td>\n",
       "      <td>34.000000</td>\n",
       "      <td>11.190000</td>\n",
       "      <td>9.000000</td>\n",
       "      <td>37.670000</td>\n",
       "      <td>122.480000</td>\n",
       "      <td>3.830000</td>\n",
       "    </tr>\n",
       "    <tr>\n",
       "      <th>50%</th>\n",
       "      <td>14147.000000</td>\n",
       "      <td>48.000000</td>\n",
       "      <td>201.120000</td>\n",
       "      <td>83.830000</td>\n",
       "      <td>187.700000</td>\n",
       "      <td>40.000000</td>\n",
       "      <td>13.450000</td>\n",
       "      <td>15.000000</td>\n",
       "      <td>47.700000</td>\n",
       "      <td>153.230000</td>\n",
       "      <td>5.310000</td>\n",
       "    </tr>\n",
       "    <tr>\n",
       "      <th>75%</th>\n",
       "      <td>21220.000000</td>\n",
       "      <td>60.000000</td>\n",
       "      <td>266.207999</td>\n",
       "      <td>89.360000</td>\n",
       "      <td>231.050000</td>\n",
       "      <td>48.000000</td>\n",
       "      <td>16.210000</td>\n",
       "      <td>20.000000</td>\n",
       "      <td>67.960000</td>\n",
       "      <td>193.310000</td>\n",
       "      <td>7.250000</td>\n",
       "    </tr>\n",
       "    <tr>\n",
       "      <th>max</th>\n",
       "      <td>28293.000000</td>\n",
       "      <td>60.000000</td>\n",
       "      <td>1854.341300</td>\n",
       "      <td>111.830000</td>\n",
       "      <td>1508.400000</td>\n",
       "      <td>82.000000</td>\n",
       "      <td>27.400000</td>\n",
       "      <td>10000.000000</td>\n",
       "      <td>721.350000</td>\n",
       "      <td>1312.810000</td>\n",
       "      <td>8.790000</td>\n",
       "    </tr>\n",
       "  </tbody>\n",
       "</table>\n",
       "</div>"
      ],
      "text/plain": [
       "            Kontrak         Tenor      Total_AR           LTV           OTR  \\\n",
       "count  28293.000000  28293.000000  28293.000000  28293.000000  28293.000000   \n",
       "mean   14147.000000     45.104867    214.777125     81.146981    204.385958   \n",
       "std     8167.629919     13.281078     88.386433     14.986763     79.938138   \n",
       "min        1.000000     12.000000      1.401000      5.110000      1.690000   \n",
       "25%     7074.000000     36.000000    156.321600     77.870000    157.800000   \n",
       "50%    14147.000000     48.000000    201.120000     83.830000    187.700000   \n",
       "75%    21220.000000     60.000000    266.207999     89.360000    231.050000   \n",
       "max    28293.000000     60.000000   1854.341300    111.830000   1508.400000   \n",
       "\n",
       "                Age  Interest_Rate        Income            DP            AF  \\\n",
       "count  28293.000000   28293.000000  28293.000000  28293.000000  28293.000000   \n",
       "mean      40.680133      13.741759     20.449334     59.117309    163.551610   \n",
       "std        9.564789       3.517159    115.608090     40.830083     64.204471   \n",
       "min       19.000000       0.000000      1.000000      0.000000      1.390000   \n",
       "25%       34.000000      11.190000      9.000000     37.670000    122.480000   \n",
       "50%       40.000000      13.450000     15.000000     47.700000    153.230000   \n",
       "75%       48.000000      16.210000     20.000000     67.960000    193.310000   \n",
       "max       82.000000      27.400000  10000.000000    721.350000   1312.810000   \n",
       "\n",
       "            Inflasi  \n",
       "count  28293.000000  \n",
       "mean       5.531061  \n",
       "std        1.797010  \n",
       "min        3.210000  \n",
       "25%        3.830000  \n",
       "50%        5.310000  \n",
       "75%        7.250000  \n",
       "max        8.790000  "
      ]
     },
     "execution_count": 7,
     "metadata": {},
     "output_type": "execute_result"
    }
   ],
   "source": [
    "data_df.describe()"
   ]
  },
  {
   "cell_type": "code",
   "execution_count": 8,
   "metadata": {},
   "outputs": [
    {
     "data": {
      "text/plain": [
       "60    9008\n",
       "48    8055\n",
       "36    7752\n",
       "24    2352\n",
       "12    1126\n",
       "Name: Tenor, dtype: int64"
      ]
     },
     "execution_count": 8,
     "metadata": {},
     "output_type": "execute_result"
    }
   ],
   "source": [
    "data_df['Tenor'].value_counts()"
   ]
  },
  {
   "cell_type": "code",
   "execution_count": 9,
   "metadata": {},
   "outputs": [
    {
     "data": {
      "text/plain": [
       "MINIBUS            14440\n",
       "LCGC                6078\n",
       "OTHERS              5657\n",
       "TRUCK & PICK UP     2118\n",
       "Name: Tipe_Kendaraan, dtype: int64"
      ]
     },
     "execution_count": 9,
     "metadata": {},
     "output_type": "execute_result"
    }
   ],
   "source": [
    "data_df['Tipe_Kendaraan'].value_counts()"
   ]
  },
  {
   "cell_type": "markdown",
   "metadata": {},
   "source": [
    "### Feature Engineering"
   ]
  },
  {
   "cell_type": "code",
   "execution_count": 10,
   "metadata": {},
   "outputs": [],
   "source": [
    "mod_data_df = data_df.copy()"
   ]
  },
  {
   "cell_type": "code",
   "execution_count": 11,
   "metadata": {},
   "outputs": [],
   "source": [
    "mod_data_df.loc[mod_data_df['Tipe_Kendaraan'] != 'MINIBUS','Tipe_Kendaraan'] = 'NON_MINIBUS'"
   ]
  },
  {
   "cell_type": "code",
   "execution_count": 12,
   "metadata": {},
   "outputs": [
    {
     "data": {
      "text/plain": [
       "MINIBUS        14440\n",
       "NON_MINIBUS    13853\n",
       "Name: Tipe_Kendaraan, dtype: int64"
      ]
     },
     "execution_count": 12,
     "metadata": {},
     "output_type": "execute_result"
    }
   ],
   "source": [
    "mod_data_df['Tipe_Kendaraan'].value_counts()"
   ]
  },
  {
   "cell_type": "code",
   "execution_count": 13,
   "metadata": {},
   "outputs": [
    {
     "data": {
      "text/plain": [
       "Index(['Kontrak', 'Tipe_Kendaraan', 'Pekerjaan', 'Area', 'Tenor',\n",
       "       'Bucket_Collectability', 'NPF', 'Total_AR', 'LTV', 'OTR', 'Age',\n",
       "       'Interest_Rate', 'Income', 'DP', 'AF', 'Tujuan', 'Pendidikan',\n",
       "       'Tanggungan', 'Status', 'Gender', 'Paket', 'Inflasi', 'Segmen'],\n",
       "      dtype='object')"
      ]
     },
     "execution_count": 13,
     "metadata": {},
     "output_type": "execute_result"
    }
   ],
   "source": [
    "mod_data_df.columns"
   ]
  },
  {
   "cell_type": "code",
   "execution_count": 14,
   "metadata": {},
   "outputs": [
    {
     "data": {
      "image/png": "[encoded data removed]",
      "text/plain": [
       "<Figure size 432x288 with 1 Axes>"
      ]
     },
     "metadata": {
      "needs_background": "light"
     },
     "output_type": "display_data"
    }
   ],
   "source": [
    "plt.title('Distribution of Age')\n",
    "_ = mod_data_df['Age'].plot.hist()\n",
    "plt.xlabel('Age')\n",
    "plt.show()"
   ]
  },
  {
   "cell_type": "code",
   "execution_count": 15,
   "metadata": {},
   "outputs": [
    {
     "data": {
      "image/png": "[encoded data removed]",
      "text/plain": [
       "<Figure size 432x288 with 1 Axes>"
      ]
     },
     "metadata": {},
     "output_type": "display_data"
    }
   ],
   "source": [
    "_ = mod_data_df['NPF'].value_counts().plot.pie(autopct = '%1.0f%%')"
   ]
  },
  {
   "cell_type": "code",
   "execution_count": 16,
   "metadata": {},
   "outputs": [
    {
     "data": {
      "image/png": "[encoded data removed]",
      "text/plain": [
       "<Figure size 432x288 with 1 Axes>"
      ]
     },
     "metadata": {},
     "output_type": "display_data"
    }
   ],
   "source": [
    "_ = mod_data_df['Pekerjaan'].value_counts().plot.pie(autopct = '%1.0f%%')"
   ]
  },
  {
   "cell_type": "code",
   "execution_count": 17,
   "metadata": {},
   "outputs": [
    {
     "data": {
      "image/png": "[encoded data removed]",
      "text/plain": [
       "<Figure size 432x288 with 1 Axes>"
      ]
     },
     "metadata": {
      "needs_background": "light"
     },
     "output_type": "display_data"
    }
   ],
   "source": [
    "plt.title('Distribution of Inflation')\n",
    "_ = mod_data_df['Inflasi'].plot.hist()\n",
    "plt.xlabel('Inflasi')\n",
    "plt.show()"
   ]
  },
  {
   "cell_type": "code",
   "execution_count": 18,
   "metadata": {},
   "outputs": [
    {
     "data": {
      "image/png": "[encoded data removed]",
      "text/plain": [
       "<Figure size 432x288 with 1 Axes>"
      ]
     },
     "metadata": {},
     "output_type": "display_data"
    }
   ],
   "source": [
    "plt.title('Area of Service')\n",
    "_ = mod_data_df['Area'].value_counts().plot.pie(autopct = '%1.0f%%')"
   ]
  },
  {
   "cell_type": "code",
   "execution_count": 19,
   "metadata": {},
   "outputs": [
    {
     "data": {
      "text/plain": [
       "Index(['Kontrak', 'Tipe_Kendaraan', 'Pekerjaan', 'Area', 'Tenor',\n",
       "       'Bucket_Collectability', 'NPF', 'Total_AR', 'LTV', 'OTR', 'Age',\n",
       "       'Interest_Rate', 'Income', 'DP', 'AF', 'Tujuan', 'Pendidikan',\n",
       "       'Tanggungan', 'Status', 'Gender', 'Paket', 'Inflasi', 'Segmen'],\n",
       "      dtype='object')"
      ]
     },
     "execution_count": 19,
     "metadata": {},
     "output_type": "execute_result"
    }
   ],
   "source": [
    "mod_data_df.columns"
   ]
  },
  {
   "cell_type": "code",
   "execution_count": 20,
   "metadata": {},
   "outputs": [
    {
     "data": {
      "text/plain": [
       "['Kontrak',\n",
       " 'Tenor',\n",
       " 'Total_AR',\n",
       " 'LTV',\n",
       " 'OTR',\n",
       " 'Age',\n",
       " 'Interest_Rate',\n",
       " 'Income',\n",
       " 'DP',\n",
       " 'AF',\n",
       " 'Inflasi']"
      ]
     },
     "execution_count": 20,
     "metadata": {},
     "output_type": "execute_result"
    }
   ],
   "source": [
    "numerical"
   ]
  },
  {
   "cell_type": "code",
   "execution_count": 21,
   "metadata": {},
   "outputs": [
    {
     "data": {
      "text/plain": [
       "['Tipe_Kendaraan',\n",
       " 'Pekerjaan',\n",
       " 'Area',\n",
       " 'Bucket_Collectability',\n",
       " 'NPF',\n",
       " 'Tujuan',\n",
       " 'Pendidikan',\n",
       " 'Tanggungan',\n",
       " 'Status',\n",
       " 'Gender',\n",
       " 'Paket',\n",
       " 'Segmen']"
      ]
     },
     "execution_count": 21,
     "metadata": {},
     "output_type": "execute_result"
    }
   ],
   "source": [
    "categorical"
   ]
  },
  {
   "cell_type": "code",
   "execution_count": 22,
   "metadata": {},
   "outputs": [
    {
     "data": {
      "text/plain": [
       "Tidak    15961\n",
       "Ya       12332\n",
       "Name: Paket, dtype: int64"
      ]
     },
     "execution_count": 22,
     "metadata": {},
     "output_type": "execute_result"
    }
   ],
   "source": [
    "mod_data_df['Paket'].value_counts()"
   ]
  },
  {
   "cell_type": "code",
   "execution_count": 23,
   "metadata": {},
   "outputs": [
    {
     "data": {
      "image/png": "[encoded data removed]",
      "text/plain": [
       "<Figure size 432x288 with 1 Axes>"
      ]
     },
     "metadata": {
      "needs_background": "light"
     },
     "output_type": "display_data"
    }
   ],
   "source": [
    "plt.title('Loan To Value Distribution')\n",
    "mod_data_df['LTV'].plot.hist()\n",
    "plt.xlabel('Percentage')\n",
    "plt.show()"
   ]
  },
  {
   "cell_type": "code",
   "execution_count": 24,
   "metadata": {},
   "outputs": [
    {
     "data": {
      "text/plain": [
       "Index(['Kontrak', 'Tipe_Kendaraan', 'Pekerjaan', 'Area', 'Tenor',\n",
       "       'Bucket_Collectability', 'NPF', 'Total_AR', 'LTV', 'OTR', 'Age',\n",
       "       'Interest_Rate', 'Income', 'DP', 'AF', 'Tujuan', 'Pendidikan',\n",
       "       'Tanggungan', 'Status', 'Gender', 'Paket', 'Inflasi', 'Segmen'],\n",
       "      dtype='object')"
      ]
     },
     "execution_count": 24,
     "metadata": {},
     "output_type": "execute_result"
    }
   ],
   "source": [
    "mod_data_df.columns"
   ]
  },
  {
   "cell_type": "code",
   "execution_count": 25,
   "metadata": {
    "scrolled": true
   },
   "outputs": [
    {
     "data": {
      "image/png": "[encoded data removed]",
      "text/plain": [
       "<Figure size 432x288 with 1 Axes>"
      ]
     },
     "metadata": {
      "needs_background": "light"
     },
     "output_type": "display_data"
    }
   ],
   "source": [
    "plt.title('Log of Income Distribution')\n",
    "np.log(mod_data_df['Income']).plot.hist()\n",
    "plt.xlabel('Income Magnitude')\n",
    "plt.show()"
   ]
  },
  {
   "cell_type": "code",
   "execution_count": 26,
   "metadata": {},
   "outputs": [
    {
     "data": {
      "image/png": "[encoded data removed]",
      "text/plain": [
       "<Figure size 1080x504 with 2 Axes>"
      ]
     },
     "metadata": {
      "needs_background": "light"
     },
     "output_type": "display_data"
    }
   ],
   "source": [
    "plt.figure(figsize = (15,7))\n",
    "plt.subplot(1,2,1)\n",
    "sns.boxplot(x = 'Pendidikan', y = 'DP', data = mod_data_df)\n",
    "\n",
    "plt.subplot(1,2,2)\n",
    "sns.boxplot(x = 'Tujuan', y = 'DP', data = mod_data_df)\n",
    "plt.show()"
   ]
  },
  {
   "cell_type": "code",
   "execution_count": 27,
   "metadata": {},
   "outputs": [
    {
     "data": {
      "image/png": "[encoded data removed]",
      "text/plain": [
       "<Figure size 504x504 with 1 Axes>"
      ]
     },
     "metadata": {
      "needs_background": "light"
     },
     "output_type": "display_data"
    }
   ],
   "source": [
    "plt.figure(figsize = (7,7))\n",
    "plt.title('Distribution of Total AR')\n",
    "mod_data_df['Total_AR'].plot.box(showmeans=True)\n",
    "plt.show()"
   ]
  },
  {
   "cell_type": "code",
   "execution_count": 28,
   "metadata": {},
   "outputs": [
    {
     "data": {
      "text/plain": [
       "214.77712517028976"
      ]
     },
     "execution_count": 28,
     "metadata": {},
     "output_type": "execute_result"
    }
   ],
   "source": [
    "mod_data_df['Total_AR'].mean()"
   ]
  },
  {
   "cell_type": "code",
   "execution_count": 29,
   "metadata": {},
   "outputs": [
    {
     "data": {
      "text/plain": [
       "201.12"
      ]
     },
     "execution_count": 29,
     "metadata": {},
     "output_type": "execute_result"
    }
   ],
   "source": [
    "mod_data_df['Total_AR'].median()"
   ]
  },
  {
   "cell_type": "code",
   "execution_count": 30,
   "metadata": {},
   "outputs": [],
   "source": [
    "def count_outlier(data):\n",
    "    Q1 = np.percentile(data,25)\n",
    "    Q3 = np.percentile(data,75)\n",
    "    IQR = Q3-Q1\n",
    "    low_fence = Q1 - 1.5*IQR\n",
    "    high_fence = Q3 + 1.5*IQR\n",
    "    counter = 0\n",
    "    for element in data:\n",
    "        if element < low_fence or element > high_fence:\n",
    "            counter = counter + 1\n",
    "    return counter"
   ]
  },
  {
   "cell_type": "code",
   "execution_count": 31,
   "metadata": {},
   "outputs": [
    {
     "name": "stdout",
     "output_type": "stream",
     "text": [
      "The number of outliers present in the data are 478 entries\n"
     ]
    }
   ],
   "source": [
    "print('The number of outliers present in the data are %i entries' % count_outlier(mod_data_df['Total_AR']))"
   ]
  },
  {
   "cell_type": "markdown",
   "metadata": {},
   "source": [
    "# Part B: Data Analysis\n",
    "Exercise on the last part"
   ]
  },
  {
   "cell_type": "markdown",
   "metadata": {},
   "source": [
    "## 1. Ambil sampel secara acak dari data loan sebanyak 80% dari banyaknya data."
   ]
  },
  {
   "cell_type": "markdown",
   "metadata": {},
   "source": [
    "Sampling randomly 80% of the dataset using built-in pandas function."
   ]
  },
  {
   "cell_type": "code",
   "execution_count": 32,
   "metadata": {},
   "outputs": [],
   "source": [
    "rand_data_df = data_df.copy()\n",
    "rand_data_df = rand_data_df.sample(round(80/100*len(rand_data_df)), random_state = 1234)\n",
    "rand_data_df.sort_values(by = 'Kontrak', inplace = True)\n",
    "rand_data_df.reset_index(inplace = True, drop = True)"
   ]
  },
  {
   "cell_type": "code",
   "execution_count": 33,
   "metadata": {},
   "outputs": [
    {
     "data": {
      "text/html": [
       "<div>\n",
       "<style scoped>\n",
       "    .dataframe tbody tr th:only-of-type {\n",
       "        vertical-align: middle;\n",
       "    }\n",
       "\n",
       "    .dataframe tbody tr th {\n",
       "        vertical-align: top;\n",
       "    }\n",
       "\n",
       "    .dataframe thead th {\n",
       "        text-align: right;\n",
       "    }\n",
       "</style>\n",
       "<table border=\"1\" class=\"dataframe\">\n",
       "  <thead>\n",
       "    <tr style=\"text-align: right;\">\n",
       "      <th></th>\n",
       "      <th>Kontrak</th>\n",
       "      <th>Tipe_Kendaraan</th>\n",
       "      <th>Pekerjaan</th>\n",
       "      <th>Area</th>\n",
       "      <th>Tenor</th>\n",
       "      <th>Bucket_Collectability</th>\n",
       "      <th>NPF</th>\n",
       "      <th>Total_AR</th>\n",
       "      <th>LTV</th>\n",
       "      <th>OTR</th>\n",
       "      <th>...</th>\n",
       "      <th>DP</th>\n",
       "      <th>AF</th>\n",
       "      <th>Tujuan</th>\n",
       "      <th>Pendidikan</th>\n",
       "      <th>Tanggungan</th>\n",
       "      <th>Status</th>\n",
       "      <th>Gender</th>\n",
       "      <th>Paket</th>\n",
       "      <th>Inflasi</th>\n",
       "      <th>Segmen</th>\n",
       "    </tr>\n",
       "  </thead>\n",
       "  <tbody>\n",
       "    <tr>\n",
       "      <th>0</th>\n",
       "      <td>1</td>\n",
       "      <td>OTHERS</td>\n",
       "      <td>Karyawan</td>\n",
       "      <td>Jawa</td>\n",
       "      <td>12</td>\n",
       "      <td>&gt;90 - 120 hari</td>\n",
       "      <td>Ya</td>\n",
       "      <td>2.763126</td>\n",
       "      <td>100.00</td>\n",
       "      <td>2.76</td>\n",
       "      <td>...</td>\n",
       "      <td>0.0</td>\n",
       "      <td>2.76</td>\n",
       "      <td>Private</td>\n",
       "      <td>Sarjana</td>\n",
       "      <td>Tidak ada</td>\n",
       "      <td>OTHERS</td>\n",
       "      <td>Laki-laki</td>\n",
       "      <td>Ya</td>\n",
       "      <td>3.58</td>\n",
       "      <td>Jasa &amp; Perdagangan</td>\n",
       "    </tr>\n",
       "    <tr>\n",
       "      <th>1</th>\n",
       "      <td>2</td>\n",
       "      <td>OTHERS</td>\n",
       "      <td>Wiraswasta</td>\n",
       "      <td>Jawa</td>\n",
       "      <td>12</td>\n",
       "      <td>0 - 30 hari</td>\n",
       "      <td>Tidak</td>\n",
       "      <td>2.805000</td>\n",
       "      <td>103.70</td>\n",
       "      <td>2.71</td>\n",
       "      <td>...</td>\n",
       "      <td>0.0</td>\n",
       "      <td>2.81</td>\n",
       "      <td>Private</td>\n",
       "      <td>Others</td>\n",
       "      <td>Tidak ada</td>\n",
       "      <td>MENIKAH</td>\n",
       "      <td>Laki-laki</td>\n",
       "      <td>Ya</td>\n",
       "      <td>3.58</td>\n",
       "      <td>Others</td>\n",
       "    </tr>\n",
       "    <tr>\n",
       "      <th>2</th>\n",
       "      <td>3</td>\n",
       "      <td>OTHERS</td>\n",
       "      <td>Wiraswasta</td>\n",
       "      <td>Jawa</td>\n",
       "      <td>12</td>\n",
       "      <td>0 - 30 hari</td>\n",
       "      <td>Tidak</td>\n",
       "      <td>3.104000</td>\n",
       "      <td>103.33</td>\n",
       "      <td>3.00</td>\n",
       "      <td>...</td>\n",
       "      <td>0.0</td>\n",
       "      <td>3.10</td>\n",
       "      <td>Private</td>\n",
       "      <td>Sarjana</td>\n",
       "      <td>Tidak ada</td>\n",
       "      <td>OTHERS</td>\n",
       "      <td>Perempuan</td>\n",
       "      <td>Ya</td>\n",
       "      <td>4.17</td>\n",
       "      <td>Others</td>\n",
       "    </tr>\n",
       "  </tbody>\n",
       "</table>\n",
       "<p>3 rows × 23 columns</p>\n",
       "</div>"
      ],
      "text/plain": [
       "   Kontrak Tipe_Kendaraan   Pekerjaan  Area  Tenor Bucket_Collectability  \\\n",
       "0        1         OTHERS    Karyawan  Jawa     12        >90 - 120 hari   \n",
       "1        2         OTHERS  Wiraswasta  Jawa     12           0 - 30 hari   \n",
       "2        3         OTHERS  Wiraswasta  Jawa     12           0 - 30 hari   \n",
       "\n",
       "     NPF  Total_AR     LTV   OTR  ...   DP    AF   Tujuan  Pendidikan  \\\n",
       "0     Ya  2.763126  100.00  2.76  ...  0.0  2.76  Private     Sarjana   \n",
       "1  Tidak  2.805000  103.70  2.71  ...  0.0  2.81  Private      Others   \n",
       "2  Tidak  3.104000  103.33  3.00  ...  0.0  3.10  Private     Sarjana   \n",
       "\n",
       "   Tanggungan   Status     Gender Paket Inflasi              Segmen  \n",
       "0   Tidak ada   OTHERS  Laki-laki    Ya    3.58  Jasa & Perdagangan  \n",
       "1   Tidak ada  MENIKAH  Laki-laki    Ya    3.58              Others  \n",
       "2   Tidak ada   OTHERS  Perempuan    Ya    4.17              Others  \n",
       "\n",
       "[3 rows x 23 columns]"
      ]
     },
     "execution_count": 33,
     "metadata": {},
     "output_type": "execute_result"
    }
   ],
   "source": [
    "rand_data_df.head(3)"
   ]
  },
  {
   "cell_type": "markdown",
   "metadata": {},
   "source": [
    "## 2. Lakukan analisis statistik menggunakan metode-metode yang telah dipelajari di kelas ini.\n"
   ]
  },
  {
   "cell_type": "markdown",
   "metadata": {},
   "source": [
    "### Feature Engineering\n",
    "- **Binary transformation:** generating value **1 for True** and **0 for False** on each categorical variable which only has two possibilities.\n",
    "- **Ordinal transformation:** generating an ordered list of values to represent an ordered categorical variable.\n",
    "- **Nominal tranformation/Dummy variable:** generating dummy variables out of categorical variables in which they are nominal type of data."
   ]
  },
  {
   "cell_type": "markdown",
   "metadata": {},
   "source": [
    "#### Binary Transformation"
   ]
  },
  {
   "cell_type": "code",
   "execution_count": 34,
   "metadata": {},
   "outputs": [],
   "source": [
    "rand_data_df['NPF_num'] = rand_data_df['NPF'].apply(lambda x: 1 if x == 'Ya' else 0)\n",
    "rand_data_df['Tujuan_Private_num'] = rand_data_df['Tujuan'].apply(lambda x: 1 if x == 'Private' else 0)\n",
    "rand_data_df['Pendidikan_Sarjana_num'] = rand_data_df['Pendidikan'].apply(lambda x: 1 if x == 'Sarjana' else 0)\n",
    "rand_data_df['Tanggungan_Ada_num'] = rand_data_df['Tanggungan'].apply(lambda x: 1 if x == 'Ada' else 0)\n",
    "rand_data_df['Menikah_Ya_num'] = rand_data_df['Status'].apply(lambda x: 1 if x == 'MENIKAH' else 0)\n",
    "rand_data_df['Gender_Pria_num'] = rand_data_df['Gender'].apply(lambda x: 1 if x == 'Laki-laki' else 0)\n",
    "rand_data_df['Paket_num'] = rand_data_df['Paket'].apply(lambda x: 1 if x == 'Ya' else 0)\n",
    "rand_data_df['Segmen_Jasa_num'] = rand_data_df['Segmen'].apply(lambda x: 1 if x == 'Jasa & Perdagangan' else 0)"
   ]
  },
  {
   "cell_type": "markdown",
   "metadata": {},
   "source": [
    "#### Ordinal Transformation"
   ]
  },
  {
   "cell_type": "code",
   "execution_count": 35,
   "metadata": {},
   "outputs": [],
   "source": [
    "def convert_to_num(data):\n",
    "    if data == '0 - 30 hari':\n",
    "        return 0\n",
    "    elif data == '>30 - 90 hari':\n",
    "        return 1\n",
    "    elif data == '>90 - 120 hari':\n",
    "        return 2\n",
    "    elif data == '>120 - 150 hari':\n",
    "        return 3\n",
    "    elif data == '> 150 hari':\n",
    "        return 4"
   ]
  },
  {
   "cell_type": "code",
   "execution_count": 36,
   "metadata": {},
   "outputs": [],
   "source": [
    "rand_data_df['Bucket_Collectability_num'] = rand_data_df['Bucket_Collectability'].apply(convert_to_num)"
   ]
  },
  {
   "cell_type": "markdown",
   "metadata": {},
   "source": [
    "#### Nominal Transformation"
   ]
  },
  {
   "cell_type": "code",
   "execution_count": 37,
   "metadata": {},
   "outputs": [],
   "source": [
    "def create_dummy(data):\n",
    "    entries = data.unique()\n",
    "    entries_set = set(entries)\n",
    "    new_columns = data.copy()\n",
    "    to_ignore = ['OTHERS','Lainnya','Others']\n",
    "    to_ignore_set = set(to_ignore)\n",
    "    for entry in entries:\n",
    "        column = data.copy()\n",
    "        column.values[:] = 0\n",
    "        column = column.rename(entry)\n",
    "        column = column.astype('int64')\n",
    "        if entry in to_ignore:\n",
    "            continue\n",
    "        else:\n",
    "            column[data == entry] = 1\n",
    "            new_columns = pd.concat([new_columns,column], axis = 1)\n",
    "    new_columns = new_columns[list(entries_set-to_ignore_set)]\n",
    "    return new_columns"
   ]
  },
  {
   "cell_type": "code",
   "execution_count": 38,
   "metadata": {},
   "outputs": [],
   "source": [
    "rand_data_df = pd.concat([rand_data_df,create_dummy(rand_data_df['Tipe_Kendaraan'])], axis = 1)\n",
    "rand_data_df = pd.concat([rand_data_df,create_dummy(rand_data_df['Pekerjaan'])], axis = 1)\n",
    "rand_data_df = pd.concat([rand_data_df,create_dummy(rand_data_df['Area'])], axis = 1)"
   ]
  },
  {
   "cell_type": "markdown",
   "metadata": {},
   "source": [
    "### Exploratory Data Analysis\n",
    "getting some insight relating to the variables and observations."
   ]
  },
  {
   "cell_type": "code",
   "execution_count": 39,
   "metadata": {},
   "outputs": [
    {
     "name": "stdout",
     "output_type": "stream",
     "text": [
      "<class 'pandas.core.frame.DataFrame'>\n",
      "RangeIndex: 22634 entries, 0 to 22633\n",
      "Data columns (total 39 columns):\n",
      "Kontrak                      22634 non-null int64\n",
      "Tipe_Kendaraan               22634 non-null object\n",
      "Pekerjaan                    22634 non-null object\n",
      "Area                         22634 non-null object\n",
      "Tenor                        22634 non-null int64\n",
      "Bucket_Collectability        22634 non-null object\n",
      "NPF                          22634 non-null object\n",
      "Total_AR                     22634 non-null float64\n",
      "LTV                          22634 non-null float64\n",
      "OTR                          22634 non-null float64\n",
      "Age                          22634 non-null int64\n",
      "Interest_Rate                22634 non-null float64\n",
      "Income                       22634 non-null int64\n",
      "DP                           22634 non-null float64\n",
      "AF                           22634 non-null float64\n",
      "Tujuan                       22634 non-null object\n",
      "Pendidikan                   22634 non-null object\n",
      "Tanggungan                   22634 non-null object\n",
      "Status                       22634 non-null object\n",
      "Gender                       22634 non-null object\n",
      "Paket                        22634 non-null object\n",
      "Inflasi                      22634 non-null float64\n",
      "Segmen                       22634 non-null object\n",
      "NPF_num                      22634 non-null int64\n",
      "Tujuan_Private_num           22634 non-null int64\n",
      "Pendidikan_Sarjana_num       22634 non-null int64\n",
      "Tanggungan_Ada_num           22634 non-null int64\n",
      "Menikah_Ya_num               22634 non-null int64\n",
      "Gender_Pria_num              22634 non-null int64\n",
      "Paket_num                    22634 non-null int64\n",
      "Segmen_Jasa_num              22634 non-null int64\n",
      "Bucket_Collectability_num    22634 non-null int64\n",
      "LCGC                         22634 non-null int64\n",
      "TRUCK & PICK UP              22634 non-null int64\n",
      "MINIBUS                      22634 non-null int64\n",
      "Karyawan                     22634 non-null int64\n",
      "Wiraswasta                   22634 non-null int64\n",
      "Sumatera                     22634 non-null int64\n",
      "Jawa                         22634 non-null int64\n",
      "dtypes: float64(7), int64(20), object(12)\n",
      "memory usage: 6.7+ MB\n"
     ]
    }
   ],
   "source": [
    "rand_data_df.info()"
   ]
  },
  {
   "cell_type": "code",
   "execution_count": 40,
   "metadata": {},
   "outputs": [
    {
     "data": {
      "image/png": "[encoded data removed]",
      "text/plain": [
       "<Figure size 504x504 with 1 Axes>"
      ]
     },
     "metadata": {
      "needs_background": "light"
     },
     "output_type": "display_data"
    }
   ],
   "source": [
    "plt.figure(figsize = (7,7))\n",
    "plt.title('Spearman\\'s Correlation Coefficient w.r.t NPF')\n",
    "rand_data_df.corr()['NPF_num'].sort_values().plot.bar()\n",
    "plt.show()"
   ]
  },
  {
   "cell_type": "markdown",
   "metadata": {},
   "source": [
    "At the moment, we would like to assume that our target variable is **NPF_num**. Because of that, the variable **Bucket_Collectability_num** cannot be used since it highly correlates with our target and also from the business side, this information could only be obtain after we approve the customers. Therefore, we remove **Bucket_Collectability_num** from the equations."
   ]
  },
  {
   "cell_type": "markdown",
   "metadata": {},
   "source": [
    "### Data Preparation\n",
    "Manual step of **stratified sampling** and then **defining predictor** columns and **target** column. I also include **train-test data splitting** in this part to generate the credit scores."
   ]
  },
  {
   "cell_type": "code",
   "execution_count": 41,
   "metadata": {},
   "outputs": [],
   "source": [
    "np.random.seed(1234)\n",
    "rand_data_df['filter'] = 'test'\n",
    "rand_data_df.loc[rand_data_df['NPF_num'] == 1,'random'] = np.random.rand(len(rand_data_df[rand_data_df['NPF_num'] == 1]))\n",
    "rand_data_df.loc[rand_data_df['NPF_num'] == 0,'random'] = np.random.rand(len(rand_data_df[rand_data_df['NPF_num'] == 0]))\n",
    "rand_data_df.loc[rand_data_df['random'] < 0.7,'filter'] = 'train'"
   ]
  },
  {
   "cell_type": "code",
   "execution_count": 42,
   "metadata": {},
   "outputs": [
    {
     "data": {
      "text/plain": [
       "train    15813\n",
       "test      6821\n",
       "Name: filter, dtype: int64"
      ]
     },
     "execution_count": 42,
     "metadata": {},
     "output_type": "execute_result"
    }
   ],
   "source": [
    "rand_data_df['filter'].value_counts()"
   ]
  },
  {
   "cell_type": "code",
   "execution_count": 43,
   "metadata": {},
   "outputs": [],
   "source": [
    "predictors = rand_data_df.copy()\n",
    "col_predictors = list(set(rand_data_df.columns) - set(categorical) - set(['Kontrak','random','NPF_num','Bucket_Collectability_num']))\n",
    "col_predictors_no_train = list(set(rand_data_df.columns) - set(categorical) - set(['Kontrak','random','NPF_num','Bucket_Collectability_num','filter']))\n",
    "predictors = predictors[col_predictors]"
   ]
  },
  {
   "cell_type": "code",
   "execution_count": 44,
   "metadata": {},
   "outputs": [],
   "source": [
    "target = rand_data_df.copy()\n",
    "target = target[['NPF_num','filter']]"
   ]
  },
  {
   "cell_type": "code",
   "execution_count": 45,
   "metadata": {},
   "outputs": [],
   "source": [
    "X_train = predictors.loc[predictors['filter'] == 'train', col_predictors_no_train]\n",
    "y_train = target.loc[target['filter'] == 'train', 'NPF_num']\n",
    "X_test = predictors.loc[predictors['filter'] == 'test', col_predictors_no_train]\n",
    "y_test = target.loc[target['filter'] == 'test', 'NPF_num']"
   ]
  },
  {
   "cell_type": "markdown",
   "metadata": {},
   "source": [
    "### Modeling\n",
    "* Generating score: using Logistic Regression and then multiplied by 1000\n",
    "* Creating Linear Regression model: to approximate the credit score"
   ]
  },
  {
   "cell_type": "markdown",
   "metadata": {},
   "source": [
    "##### Generating Score"
   ]
  },
  {
   "cell_type": "code",
   "execution_count": 46,
   "metadata": {},
   "outputs": [],
   "source": [
    "from sklearn.linear_model import LogisticRegression"
   ]
  },
  {
   "cell_type": "code",
   "execution_count": 47,
   "metadata": {},
   "outputs": [],
   "source": [
    "model = LogisticRegression()"
   ]
  },
  {
   "cell_type": "code",
   "execution_count": 48,
   "metadata": {},
   "outputs": [
    {
     "name": "stderr",
     "output_type": "stream",
     "text": [
      "D:\\Anaconda\\lib\\site-packages\\sklearn\\linear_model\\logistic.py:433: FutureWarning: Default solver will be changed to 'lbfgs' in 0.22. Specify a solver to silence this warning.\n",
      "  FutureWarning)\n"
     ]
    },
    {
     "data": {
      "text/plain": [
       "LogisticRegression(C=1.0, class_weight=None, dual=False, fit_intercept=True,\n",
       "          intercept_scaling=1, max_iter=100, multi_class='warn',\n",
       "          n_jobs=None, penalty='l2', random_state=None, solver='warn',\n",
       "          tol=0.0001, verbose=0, warm_start=False)"
      ]
     },
     "execution_count": 48,
     "metadata": {},
     "output_type": "execute_result"
    }
   ],
   "source": [
    "model.fit(X = X_train, y = y_train)"
   ]
  },
  {
   "cell_type": "code",
   "execution_count": 49,
   "metadata": {},
   "outputs": [
    {
     "data": {
      "text/html": [
       "<div>\n",
       "<style scoped>\n",
       "    .dataframe tbody tr th:only-of-type {\n",
       "        vertical-align: middle;\n",
       "    }\n",
       "\n",
       "    .dataframe tbody tr th {\n",
       "        vertical-align: top;\n",
       "    }\n",
       "\n",
       "    .dataframe thead th {\n",
       "        text-align: right;\n",
       "    }\n",
       "</style>\n",
       "<table border=\"1\" class=\"dataframe\">\n",
       "  <thead>\n",
       "    <tr style=\"text-align: right;\">\n",
       "      <th></th>\n",
       "      <th>Predictors</th>\n",
       "      <th>Coefficients</th>\n",
       "    </tr>\n",
       "  </thead>\n",
       "  <tbody>\n",
       "    <tr>\n",
       "      <th>22</th>\n",
       "      <td>Karyawan</td>\n",
       "      <td>-0.402117</td>\n",
       "    </tr>\n",
       "    <tr>\n",
       "      <th>3</th>\n",
       "      <td>LCGC</td>\n",
       "      <td>-0.204641</td>\n",
       "    </tr>\n",
       "    <tr>\n",
       "      <th>17</th>\n",
       "      <td>Pendidikan_Sarjana_num</td>\n",
       "      <td>-0.114688</td>\n",
       "    </tr>\n",
       "    <tr>\n",
       "      <th>16</th>\n",
       "      <td>Segmen_Jasa_num</td>\n",
       "      <td>-0.112402</td>\n",
       "    </tr>\n",
       "    <tr>\n",
       "      <th>1</th>\n",
       "      <td>Wiraswasta</td>\n",
       "      <td>-0.111712</td>\n",
       "    </tr>\n",
       "    <tr>\n",
       "      <th>10</th>\n",
       "      <td>Tanggungan_Ada_num</td>\n",
       "      <td>-0.065463</td>\n",
       "    </tr>\n",
       "    <tr>\n",
       "      <th>13</th>\n",
       "      <td>Paket_num</td>\n",
       "      <td>-0.049072</td>\n",
       "    </tr>\n",
       "    <tr>\n",
       "      <th>8</th>\n",
       "      <td>Menikah_Ya_num</td>\n",
       "      <td>-0.038872</td>\n",
       "    </tr>\n",
       "    <tr>\n",
       "      <th>2</th>\n",
       "      <td>AF</td>\n",
       "      <td>-0.023795</td>\n",
       "    </tr>\n",
       "    <tr>\n",
       "      <th>7</th>\n",
       "      <td>Age</td>\n",
       "      <td>-0.014534</td>\n",
       "    </tr>\n",
       "    <tr>\n",
       "      <th>14</th>\n",
       "      <td>Tenor</td>\n",
       "      <td>-0.008847</td>\n",
       "    </tr>\n",
       "    <tr>\n",
       "      <th>4</th>\n",
       "      <td>DP</td>\n",
       "      <td>-0.007534</td>\n",
       "    </tr>\n",
       "    <tr>\n",
       "      <th>21</th>\n",
       "      <td>Income</td>\n",
       "      <td>0.000067</td>\n",
       "    </tr>\n",
       "    <tr>\n",
       "      <th>9</th>\n",
       "      <td>OTR</td>\n",
       "      <td>0.000906</td>\n",
       "    </tr>\n",
       "    <tr>\n",
       "      <th>0</th>\n",
       "      <td>Total_AR</td>\n",
       "      <td>0.020761</td>\n",
       "    </tr>\n",
       "    <tr>\n",
       "      <th>19</th>\n",
       "      <td>LTV</td>\n",
       "      <td>0.030532</td>\n",
       "    </tr>\n",
       "    <tr>\n",
       "      <th>6</th>\n",
       "      <td>MINIBUS</td>\n",
       "      <td>0.076042</td>\n",
       "    </tr>\n",
       "    <tr>\n",
       "      <th>18</th>\n",
       "      <td>Interest_Rate</td>\n",
       "      <td>0.095307</td>\n",
       "    </tr>\n",
       "    <tr>\n",
       "      <th>11</th>\n",
       "      <td>Inflasi</td>\n",
       "      <td>0.118950</td>\n",
       "    </tr>\n",
       "    <tr>\n",
       "      <th>12</th>\n",
       "      <td>Gender_Pria_num</td>\n",
       "      <td>0.139100</td>\n",
       "    </tr>\n",
       "    <tr>\n",
       "      <th>15</th>\n",
       "      <td>Tujuan_Private_num</td>\n",
       "      <td>0.168743</td>\n",
       "    </tr>\n",
       "    <tr>\n",
       "      <th>23</th>\n",
       "      <td>Jawa</td>\n",
       "      <td>0.446395</td>\n",
       "    </tr>\n",
       "    <tr>\n",
       "      <th>20</th>\n",
       "      <td>Sumatera</td>\n",
       "      <td>0.680234</td>\n",
       "    </tr>\n",
       "    <tr>\n",
       "      <th>5</th>\n",
       "      <td>TRUCK &amp; PICK UP</td>\n",
       "      <td>0.974664</td>\n",
       "    </tr>\n",
       "  </tbody>\n",
       "</table>\n",
       "</div>"
      ],
      "text/plain": [
       "                Predictors  Coefficients\n",
       "22                Karyawan     -0.402117\n",
       "3                     LCGC     -0.204641\n",
       "17  Pendidikan_Sarjana_num     -0.114688\n",
       "16         Segmen_Jasa_num     -0.112402\n",
       "1               Wiraswasta     -0.111712\n",
       "10      Tanggungan_Ada_num     -0.065463\n",
       "13               Paket_num     -0.049072\n",
       "8           Menikah_Ya_num     -0.038872\n",
       "2                       AF     -0.023795\n",
       "7                      Age     -0.014534\n",
       "14                   Tenor     -0.008847\n",
       "4                       DP     -0.007534\n",
       "21                  Income      0.000067\n",
       "9                      OTR      0.000906\n",
       "0                 Total_AR      0.020761\n",
       "19                     LTV      0.030532\n",
       "6                  MINIBUS      0.076042\n",
       "18           Interest_Rate      0.095307\n",
       "11                 Inflasi      0.118950\n",
       "12         Gender_Pria_num      0.139100\n",
       "15      Tujuan_Private_num      0.168743\n",
       "23                    Jawa      0.446395\n",
       "20                Sumatera      0.680234\n",
       "5          TRUCK & PICK UP      0.974664"
      ]
     },
     "execution_count": 49,
     "metadata": {},
     "output_type": "execute_result"
    }
   ],
   "source": [
    "pred_coeff = pd.concat([pd.Series(X_test.columns),pd.Series(model.coef_[0])], axis = 1).rename(columns = {0:'Predictors',1:'Coefficients'})\n",
    "pred_coeff.sort_values(by = 'Coefficients')"
   ]
  },
  {
   "cell_type": "markdown",
   "metadata": {},
   "source": [
    "**Generating score** by using prediction from logistic regression."
   ]
  },
  {
   "cell_type": "code",
   "execution_count": 50,
   "metadata": {},
   "outputs": [],
   "source": [
    "rand_data_df['credit_score'] = np.round(model.predict_proba(rand_data_df[col_predictors_no_train])[:,0]*1000)"
   ]
  },
  {
   "cell_type": "markdown",
   "metadata": {},
   "source": [
    "##### Creating Linear Regression Model"
   ]
  },
  {
   "cell_type": "code",
   "execution_count": 51,
   "metadata": {},
   "outputs": [
    {
     "data": {
      "image/png": "[encoded data removed]",
      "text/plain": [
       "<Figure size 504x504 with 1 Axes>"
      ]
     },
     "metadata": {
      "needs_background": "light"
     },
     "output_type": "display_data"
    }
   ],
   "source": [
    "plt.figure(figsize = (7,7))\n",
    "plt.title('Distribution of Credit Scores')\n",
    "rand_data_df['credit_score'].plot.hist()\n",
    "plt.xlabel('Credit Score')\n",
    "plt.show()"
   ]
  },
  {
   "cell_type": "code",
   "execution_count": 52,
   "metadata": {},
   "outputs": [],
   "source": [
    "target = rand_data_df.copy()\n",
    "target = target[['credit_score','filter']]\n",
    "y_train_lin = target.loc[target['filter'] == 'train', 'credit_score']\n",
    "y_test_lin = target.loc[target['filter'] == 'test', 'credit_score']"
   ]
  },
  {
   "cell_type": "code",
   "execution_count": 53,
   "metadata": {},
   "outputs": [],
   "source": [
    "from sklearn.linear_model import LinearRegression"
   ]
  },
  {
   "cell_type": "code",
   "execution_count": 54,
   "metadata": {},
   "outputs": [],
   "source": [
    "model = LinearRegression()"
   ]
  },
  {
   "cell_type": "code",
   "execution_count": 55,
   "metadata": {},
   "outputs": [
    {
     "data": {
      "text/plain": [
       "LinearRegression(copy_X=True, fit_intercept=True, n_jobs=None,\n",
       "         normalize=False)"
      ]
     },
     "execution_count": 55,
     "metadata": {},
     "output_type": "execute_result"
    }
   ],
   "source": [
    "model.fit(X_train, y_train_lin)"
   ]
  },
  {
   "cell_type": "code",
   "execution_count": 56,
   "metadata": {},
   "outputs": [
    {
     "data": {
      "text/html": [
       "<div>\n",
       "<style scoped>\n",
       "    .dataframe tbody tr th:only-of-type {\n",
       "        vertical-align: middle;\n",
       "    }\n",
       "\n",
       "    .dataframe tbody tr th {\n",
       "        vertical-align: top;\n",
       "    }\n",
       "\n",
       "    .dataframe thead th {\n",
       "        text-align: right;\n",
       "    }\n",
       "</style>\n",
       "<table border=\"1\" class=\"dataframe\">\n",
       "  <thead>\n",
       "    <tr style=\"text-align: right;\">\n",
       "      <th></th>\n",
       "      <th>Predictors</th>\n",
       "      <th>Coefficients</th>\n",
       "    </tr>\n",
       "  </thead>\n",
       "  <tbody>\n",
       "    <tr>\n",
       "      <th>5</th>\n",
       "      <td>TRUCK &amp; PICK UP</td>\n",
       "      <td>-196.968476</td>\n",
       "    </tr>\n",
       "    <tr>\n",
       "      <th>20</th>\n",
       "      <td>Sumatera</td>\n",
       "      <td>-126.872741</td>\n",
       "    </tr>\n",
       "    <tr>\n",
       "      <th>23</th>\n",
       "      <td>Jawa</td>\n",
       "      <td>-85.685269</td>\n",
       "    </tr>\n",
       "    <tr>\n",
       "      <th>15</th>\n",
       "      <td>Tujuan_Private_num</td>\n",
       "      <td>-29.426485</td>\n",
       "    </tr>\n",
       "    <tr>\n",
       "      <th>12</th>\n",
       "      <td>Gender_Pria_num</td>\n",
       "      <td>-25.372315</td>\n",
       "    </tr>\n",
       "    <tr>\n",
       "      <th>11</th>\n",
       "      <td>Inflasi</td>\n",
       "      <td>-19.637138</td>\n",
       "    </tr>\n",
       "    <tr>\n",
       "      <th>18</th>\n",
       "      <td>Interest_Rate</td>\n",
       "      <td>-18.084601</td>\n",
       "    </tr>\n",
       "    <tr>\n",
       "      <th>6</th>\n",
       "      <td>MINIBUS</td>\n",
       "      <td>-15.375338</td>\n",
       "    </tr>\n",
       "    <tr>\n",
       "      <th>19</th>\n",
       "      <td>LTV</td>\n",
       "      <td>-8.312832</td>\n",
       "    </tr>\n",
       "    <tr>\n",
       "      <th>13</th>\n",
       "      <td>Paket_num</td>\n",
       "      <td>-5.421458</td>\n",
       "    </tr>\n",
       "    <tr>\n",
       "      <th>0</th>\n",
       "      <td>Total_AR</td>\n",
       "      <td>-4.422542</td>\n",
       "    </tr>\n",
       "    <tr>\n",
       "      <th>9</th>\n",
       "      <td>OTR</td>\n",
       "      <td>-0.937881</td>\n",
       "    </tr>\n",
       "    <tr>\n",
       "      <th>21</th>\n",
       "      <td>Income</td>\n",
       "      <td>-0.012304</td>\n",
       "    </tr>\n",
       "    <tr>\n",
       "      <th>4</th>\n",
       "      <td>DP</td>\n",
       "      <td>0.540885</td>\n",
       "    </tr>\n",
       "    <tr>\n",
       "      <th>14</th>\n",
       "      <td>Tenor</td>\n",
       "      <td>1.859102</td>\n",
       "    </tr>\n",
       "    <tr>\n",
       "      <th>7</th>\n",
       "      <td>Age</td>\n",
       "      <td>2.658335</td>\n",
       "    </tr>\n",
       "    <tr>\n",
       "      <th>2</th>\n",
       "      <td>AF</td>\n",
       "      <td>6.373851</td>\n",
       "    </tr>\n",
       "    <tr>\n",
       "      <th>8</th>\n",
       "      <td>Menikah_Ya_num</td>\n",
       "      <td>6.721140</td>\n",
       "    </tr>\n",
       "    <tr>\n",
       "      <th>10</th>\n",
       "      <td>Tanggungan_Ada_num</td>\n",
       "      <td>15.046272</td>\n",
       "    </tr>\n",
       "    <tr>\n",
       "      <th>1</th>\n",
       "      <td>Wiraswasta</td>\n",
       "      <td>16.371207</td>\n",
       "    </tr>\n",
       "    <tr>\n",
       "      <th>16</th>\n",
       "      <td>Segmen_Jasa_num</td>\n",
       "      <td>19.371011</td>\n",
       "    </tr>\n",
       "    <tr>\n",
       "      <th>17</th>\n",
       "      <td>Pendidikan_Sarjana_num</td>\n",
       "      <td>23.199786</td>\n",
       "    </tr>\n",
       "    <tr>\n",
       "      <th>3</th>\n",
       "      <td>LCGC</td>\n",
       "      <td>42.385184</td>\n",
       "    </tr>\n",
       "    <tr>\n",
       "      <th>22</th>\n",
       "      <td>Karyawan</td>\n",
       "      <td>71.904828</td>\n",
       "    </tr>\n",
       "  </tbody>\n",
       "</table>\n",
       "</div>"
      ],
      "text/plain": [
       "                Predictors  Coefficients\n",
       "5          TRUCK & PICK UP   -196.968476\n",
       "20                Sumatera   -126.872741\n",
       "23                    Jawa    -85.685269\n",
       "15      Tujuan_Private_num    -29.426485\n",
       "12         Gender_Pria_num    -25.372315\n",
       "11                 Inflasi    -19.637138\n",
       "18           Interest_Rate    -18.084601\n",
       "6                  MINIBUS    -15.375338\n",
       "19                     LTV     -8.312832\n",
       "13               Paket_num     -5.421458\n",
       "0                 Total_AR     -4.422542\n",
       "9                      OTR     -0.937881\n",
       "21                  Income     -0.012304\n",
       "4                       DP      0.540885\n",
       "14                   Tenor      1.859102\n",
       "7                      Age      2.658335\n",
       "2                       AF      6.373851\n",
       "8           Menikah_Ya_num      6.721140\n",
       "10      Tanggungan_Ada_num     15.046272\n",
       "1               Wiraswasta     16.371207\n",
       "16         Segmen_Jasa_num     19.371011\n",
       "17  Pendidikan_Sarjana_num     23.199786\n",
       "3                     LCGC     42.385184\n",
       "22                Karyawan     71.904828"
      ]
     },
     "execution_count": 56,
     "metadata": {},
     "output_type": "execute_result"
    }
   ],
   "source": [
    "pred_coeff = pd.concat([pd.Series(X_test.columns),pd.Series(model.coef_)], axis = 1).rename(columns = {0:'Predictors',1:'Coefficients'})\n",
    "pred_coeff.sort_values(by = 'Coefficients')"
   ]
  },
  {
   "cell_type": "markdown",
   "metadata": {},
   "source": [
    "The table above shows that if their jobs are **Karyawan**, they are more likely to get higher score than people who work as **Wiraswasta or others**. Moreover, from this dataset, we could also find that purchasing a **LCGC car** are more likely to get better credit score whilst if they buy **TRUCK & PICK UP**, then they tend to default. Nevertheless, surprisingly, the linear model also shows unexpected result regarding to **AF (Amount Financed)**. The coefficient is **positive** which means **the higher they ask for loan amount**, it is **more likely that they got approved**. Further analysis is needed on this case and also any other **'a bit absurd'** variables such as **Gender** (do men have higher default rate more than women or is it just because more men than women in the dataset?) and etc."
   ]
  },
  {
   "cell_type": "code",
   "execution_count": 59,
   "metadata": {},
   "outputs": [
    {
     "data": {
      "image/png": "[encoded data removed]",
      "text/plain": [
       "<Figure size 1080x504 with 2 Axes>"
      ]
     },
     "metadata": {
      "needs_background": "light"
     },
     "output_type": "display_data"
    }
   ],
   "source": [
    "plt.figure(figsize = (15,7))\n",
    "plt.subplot(1,2,1)\n",
    "plt.title('Plot of Error Prediction vs Actual')\n",
    "plt.scatter(np.arange(len(X_test)),model.predict(X_test)-y_test_lin)\n",
    "plt.ylabel('Error')\n",
    "plt.xlabel('Observation')\n",
    "\n",
    "plt.subplot(1,2,2)\n",
    "plt.title('Distribution of Error')\n",
    "plt.hist(model.predict(X_test)-y_test_lin)\n",
    "plt.ylabel('Frequency')\n",
    "plt.xlabel('Error')\n",
    "plt.show()"
   ]
  },
  {
   "cell_type": "code",
   "execution_count": 58,
   "metadata": {},
   "outputs": [
    {
     "name": "stdout",
     "output_type": "stream",
     "text": [
      "Your RMSE is 39.87\n"
     ]
    }
   ],
   "source": [
    "RMSE = np.sqrt(sum((model.predict(X_test)-y_test_lin)**2/len(X_test)))\n",
    "print('Your RMSE is %.2f' %RMSE)"
   ]
  },
  {
   "cell_type": "markdown",
   "metadata": {},
   "source": [
    "The figures above tell us about **the performance of the linear regression model**. In general, the linear regression model **performs quite well**. On the left figure, one can see that most of the errors are gathered around zero which means _the difference between predicted scores versus actual scores is not that much_ (Of course, it is **exactly what we expect** because generated scores come from Logistic Regression which is **still family of linear model**). The result is also supported by the histogram on the right hand side. The errors are concetrated in 0 and have thin bars which mean the deviation is low. As a closure, I even compute the **RMSE (Root Mean-Squared Error)** which is **39.87** (quite low compared to the range of score from 0 until 1000)."
   ]
  },
  {
   "cell_type": "code",
   "execution_count": null,
   "metadata": {},
   "outputs": [],
   "source": []
  }
 ],
 "metadata": {
  "kernelspec": {
   "display_name": "Python 3",
   "language": "python",
   "name": "python3"
  },
  "language_info": {
   "codemirror_mode": {
    "name": "ipython",
    "version": 3
   },
   "file_extension": ".py",
   "mimetype": "text/x-python",
   "name": "python",
   "nbconvert_exporter": "python",
   "pygments_lexer": "ipython3",
   "version": "3.7.3"
  }
 },
 "nbformat": 4,
 "nbformat_minor": 2
}
